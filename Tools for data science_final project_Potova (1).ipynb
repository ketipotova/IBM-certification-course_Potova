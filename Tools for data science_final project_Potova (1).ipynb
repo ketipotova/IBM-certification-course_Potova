{
 "cells": [
  {
   "cell_type": "markdown",
   "id": "3e538e8e-169b-44e7-a2de-663e9305bd47",
   "metadata": {},
   "source": [
    "# My Jupyter Notebook on IBM Watson Studio"
   ]
  },
  {
   "cell_type": "markdown",
   "id": "17981e4b-163e-4e2e-92a4-c437cdb6c93c",
   "metadata": {},
   "source": [
    "**Ketevan Potova**\n",
    "\n",
    "Data scientist"
   ]
  },
  {
   "cell_type": "markdown",
   "id": "8b3c1878-cacc-4b16-8cb5-0f8fc5b8b118",
   "metadata": {},
   "source": [
    "*My passion for data science started years ago, but I was too busy with my other career, could never make it to take time for it. finally, decided to follow my passion and learn data science*"
   ]
  },
  {
   "cell_type": "markdown",
   "id": "4e8416da-964f-43bb-9366-b2ebb4c467a8",
   "metadata": {},
   "source": [
    "### the following code will display a text output"
   ]
  },
  {
   "cell_type": "code",
   "execution_count": 7,
   "id": "8dbe90c8-f3a3-4f15-84ea-73d85d23fadc",
   "metadata": {},
   "outputs": [
    {
     "name": "stdout",
     "output_type": "stream",
     "text": [
      "I am happy to be so close to the finishing of 2nd course! congratulations\n"
     ]
    }
   ],
   "source": [
    "print(\"I am happy to be so close to the finishing of 2nd course! congratulations\")"
   ]
  },
  {
   "cell_type": "markdown",
   "id": "f1f445e3-77ff-4dfd-a433-163cc5fdabf2",
   "metadata": {},
   "source": [
    "<hr>"
   ]
  },
  {
   "cell_type": "markdown",
   "id": "9fb7b2db-2b45-4a78-85da-94a661065a4a",
   "metadata": {},
   "source": [
    "Following foods are good for your brain:\n",
    "    \n",
    "    1. Avocado\n",
    "    2. bluberries\n",
    "    3. brocolli\n",
    "    4. coconut oil\n",
    "    5. eggs\n",
    "    6. salmon\n",
    "    7. green leafy vegetables\n",
    "    8. walnuts\n",
    "    9. dark chocolate"
   ]
  },
  {
   "cell_type": "markdown",
   "id": "62b86ab8-a32f-4497-bc13-c8da6bd94976",
   "metadata": {},
   "source": [
    "<div class=\"alert alert-block alert-info\">\n",
    "<b>Celebration:</b> This is my final task in my final assignment.\n",
    "</div>"
   ]
  },
  {
   "cell_type": "code",
   "execution_count": null,
   "id": "f32afc4a-c051-42f2-a3f3-a0bec50a9131",
   "metadata": {},
   "outputs": [],
   "source": []
  }
 ],
 "metadata": {
  "kernelspec": {
   "display_name": "Python",
   "language": "python",
   "name": "conda-env-python-py"
  },
  "language_info": {
   "codemirror_mode": {
    "name": "ipython",
    "version": 3
   },
   "file_extension": ".py",
   "mimetype": "text/x-python",
   "name": "python",
   "nbconvert_exporter": "python",
   "pygments_lexer": "ipython3",
   "version": "3.7.12"
  }
 },
 "nbformat": 4,
 "nbformat_minor": 5
}
